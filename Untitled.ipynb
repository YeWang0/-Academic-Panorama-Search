{
 "cells": [
  {
   "cell_type": "code",
   "execution_count": 2,
   "metadata": {
    "collapsed": false
   },
   "outputs": [],
   "source": [
    "import json\n",
    "with open(\"data/ML/topic2link.json\",\"r\") as fp:\n",
    "\tML_links=json.load(fp)\n",
    "with open(\"data/ML/topic2title.json\",\"r\") as fp:\n",
    "\tML_titles=json.load(fp)\n",
    "with open(\"data/IR/topic2link.json\",\"r\") as fp:\n",
    "\tIR_links=json.load(fp)\n",
    "with open(\"data/IR/topic2title.json\",\"r\") as fp:\n",
    "\tIR_titles=json.load(fp)\t\t\n",
    "\n",
    "with open(\"data/ML/topic_id.json\",\"r\") as fp:\n",
    "\tML_ids=json.load(fp)\n",
    "with open(\"data/IR/topic_id.json\",\"r\") as fp:\n",
    "\tIR_ids=json.load(fp)"
   ]
  },
  {
   "cell_type": "code",
   "execution_count": 3,
   "metadata": {
    "collapsed": true
   },
   "outputs": [],
   "source": [
    "with open(\"data/ML/topic_id2label.json\",\"r\") as fp:\n",
    "\tML_idlbs=json.load(fp)\n",
    "with open(\"data/IR/topic_id2label.json\",\"r\") as fp:\n",
    "\tIR_idlbs=json.load(fp)"
   ]
  },
  {
   "cell_type": "code",
   "execution_count": 6,
   "metadata": {
    "collapsed": false
   },
   "outputs": [
    {
     "name": "stdout",
     "output_type": "stream",
     "text": [
      "{u'58': [u'back propag', u'singl hidden', u'hidden layer'], u'30': [u'facial express', u'speech recognit', u'hidden markov'], u'42': [u'concept lattic', u'knowledg discoveri', u'inform retriev'], u'43': [u'maximum likelihood', u'h sub', u'markov chain'], u'60': [u'comput vision', u'remot sens', u'face recognit'], u'61': [u'low level', u'magnet reson', u'comput vision'], u'62': [u'predict model', u'predict accuraci', u'linear regress'], u'63': [u'time seri', u'spatio tempor', u'short term'], u'64': [u'posit neg', u'social media', u'ground truth'], u'65': [u'featur select', u'classif accuraci', u'featur vector'], u'66': [u'machin svm', u'ls svm', u'vector machin'], u'67': [u'optim problem', u'np hard', u'decis maker'], u'68': [u'p p', u'knowledg discoveri', u'big data'], u'69': [u'kernel function', u'ls svm', u'maximum likelihood'], u'80': [u'gene express', u'amino acid', u'breast cancer'], u'81': [u'cluster algorithm', u'k mean', u'self organ'], u'24': [u'fuzzi rule', u'rule base', u'membership function'], u'25': [u'web servic', u'big data', u'mobil devic'], u'26': [u'fals posit', u'posit neg', u'non neg'], u'27': [u'speech recognit', u'low level', u'facial express'], u'20': [u'chapter contain', u'section titl', u'contain section'], u'21': [u'l sub', u'sub sub', u'sup sup'], u'48': [u'sentiment analysi', u'n gram', u'natur languag'], u'49': [u'attribut reduct', u'set theori', u'rough set'], u'46': [u'social network', u'semi supervis', u'cluster algorithm'], u'23': [u'comput vision', u'facial express', u'face recognit'], u'44': [u'sentiment analysi', u'social media', u'posit neg'], u'45': [u'p p', u'big data', u'data driven'], u'28': [u'p p', u'e g', u'remot sens'], u'29': [u'face recognit', u'publicli avail', u'proceed record'], u'40': [u'decis make', u'logist regress', u'decis maker'], u'41': [u'wavelet transform', u'current committe', u'short term'], u'1': [u'p p', u'mobil devic', u'multi agent'], u'0': [u'amino acid', u'remot sens', u'gene express'], u'3': [u'dimension reduct', u'analysi pca', u'princip compon'], u'2': [u'decis tree', u'random forest', u'naiv bay'], u'5': [u'magnet reson', u'licens plate', u'comput vision'], u'4': [u'p p', u'search engin', u'np hard'], u'7': [u'reinforc learn', u'pid control', u'slide mode'], u'6': [u'time delay', u'time vari', u'pid control'], u'9': [u'maximum likelihood', u'least squar', u'singl hidden'], u'8': [u'low level', u'ground truth', u'publicli avail'], u'32': [u'br br', u'social media', u'social network'], u'18': [u'natur languag', u'question answer', u'n gram'], u'35': [u'kalman filter', u'non stationari', u'real time'], u'39': [u'similar measur', u'k nn', u'nearest neighbor'], u'34': [u'power consumpt', u'multi agent', u'web servic'], u'77': [u'question answer', u'n gram', u'natur languag'], u'76': [u'multilay perceptron', u'energi consumpt', u'k mean'], u'75': [u'p p', u'real life', u'reinforc learn'], u'38': [u'multi class', u'classif problem', u'train sampl'], u'73': [u'short term', u'power consumpt', u'energi consumpt'], u'72': [u'social media', u'social network', u'sentiment analysi'], u'71': [u'l sub', u'amino acid', u'sub sub'], u'70': [u'squar error', u'mean squar', u'error rate'], u'15': [u'k nearest', u'nearest neighbor', u'k nn'], u'79': [u'fals alarm', u'hidden markov', u'analysi pca'], u'78': [u'genet algorithm', u'particl swarm', u'swarm optim'], u'11': [u'intrus detect', u'anomali detect', u'fals posit'], u'10': [u'control system', u'pid control', u'slide mode'], u'13': [u'search engin', u'web page', u'recommend system'], u'12': [u'face recognit', u'facial express', u'linear discrimin'], u'59': [u'intrus detect', u'anomali detect', u'learn ml'], u'22': [u'comput vision', u'facial express', u'ground truth'], u'14': [u'breast cancer', u'magnet reson', u'gene express'], u'16': [u'pid control', u'feed forward', u'control system'], u'19': [u'mobil devic', u'kalman filter', u'wireless sensor'], u'54': [u'fault diagnosi', u'fault toler', u'bp neural'], u'31': [u'open sourc', u'predict model', u'learn ml'], u'56': [u'p p', u'comput vision', u'pre process'], u'51': [u'featur extract', u'featur vector', u'magnet reson'], u'36': [u'speech recognit', u'n gram', u'markov model'], u'53': [u'pid control', u'web page', u'non neg'], u'52': [u'power consumpt', u'fault toler', u'energi consumpt'], u'33': [u'inequ lmi', u'matrix inequ', u'close loop'], u'55': [u'bayesian network', u'markov chain', u'p p'], u'74': [u'br br', u'mobil devic', u'petri net'], u'37': [u'kalman filter', u'fault toler', u'mobil devic'], u'47': [u'kalman filter', u'fals posit', u'mobil robot'], u'17': [u'magnet reson', u'p p', u'linear discrimin'], u'57': [u'mobil robot', u'p p', u'reinforc learn'], u'50': [u'remot sens', u'ground truth', u'spatio tempor']}\n"
     ]
    }
   ],
   "source": [
    "print ML_idlbs"
   ]
  },
  {
   "cell_type": "code",
   "execution_count": 7,
   "metadata": {
    "collapsed": false
   },
   "outputs": [
    {
     "name": "stdout",
     "output_type": "stream",
     "text": [
      "[u'58', u'30', u'42', u'43', u'60', u'61', u'62', u'63', u'64', u'65', u'66', u'67', u'68', u'69', u'80', u'81', u'24', u'25', u'26', u'27', u'20', u'21', u'48', u'49', u'46', u'23', u'44', u'45', u'28', u'29', u'40', u'41', u'1', u'0', u'3', u'2', u'5', u'4', u'7', u'6', u'9', u'8', u'32', u'18', u'35', u'39', u'34', u'77', u'76', u'75', u'38', u'73', u'72', u'71', u'70', u'15', u'79', u'78', u'11', u'10', u'13', u'12', u'59', u'22', u'14', u'16', u'19', u'54', u'31', u'56', u'51', u'36', u'53', u'52', u'33', u'55', u'74', u'37', u'47', u'17', u'57', u'50']\n"
     ]
    }
   ],
   "source": [
    "print ML_idlbs.keys()"
   ]
  },
  {
   "cell_type": "code",
   "execution_count": 10,
   "metadata": {
    "collapsed": false
   },
   "outputs": [],
   "source": [
    "ml_label_set=[]\n",
    "for k in ML_idlbs.keys():\n",
    "    flag=False\n",
    "    for index in xrange(3):\n",
    "        if ML_idlbs[k][index] not in ml_label_set:\n",
    "            flag=True\n",
    "            ml_label_set.append(ML_idlbs[k][index])\n",
    "            break\n",
    "    if flag==False:\n",
    "        ml_label_set.append('#')\n",
    "    \n"
   ]
  },
  {
   "cell_type": "code",
   "execution_count": 11,
   "metadata": {
    "collapsed": false
   },
   "outputs": [
    {
     "name": "stdout",
     "output_type": "stream",
     "text": [
      "[u'back propag', u'facial express', u'concept lattic', u'maximum likelihood', u'comput vision', u'low level', u'predict model', u'time seri', u'posit neg', u'featur select', u'machin svm', u'optim problem', u'p p', u'kernel function', u'gene express', u'cluster algorithm', u'fuzzi rule', u'web servic', u'fals posit', u'speech recognit', u'chapter contain', u'l sub', u'sentiment analysi', u'attribut reduct', u'social network', u'face recognit', u'social media', u'big data', u'e g', u'publicli avail', u'decis make', u'wavelet transform', u'mobil devic', u'amino acid', u'dimension reduct', u'decis tree', u'magnet reson', u'search engin', u'reinforc learn', u'time delay', u'least squar', u'ground truth', u'br br', u'natur languag', u'kalman filter', u'similar measur', u'power consumpt', u'question answer', u'multilay perceptron', u'real life', u'multi class', u'short term', '#', u'sub sub', u'squar error', u'k nearest', u'fals alarm', u'genet algorithm', u'intrus detect', u'control system', u'web page', u'linear discrimin', u'anomali detect', '#', u'breast cancer', u'pid control', u'wireless sensor', u'fault diagnosi', u'open sourc', u'pre process', u'featur extract', u'n gram', u'non neg', u'fault toler', u'inequ lmi', u'bayesian network', u'petri net', '#', u'mobil robot', '#', '#', u'remot sens']\n"
     ]
    }
   ],
   "source": [
    "print ml_label_set"
   ]
  },
  {
   "cell_type": "code",
   "execution_count": null,
   "metadata": {
    "collapsed": true
   },
   "outputs": [],
   "source": []
  }
 ],
 "metadata": {
  "anaconda-cloud": {},
  "kernelspec": {
   "display_name": "Python [Root]",
   "language": "python",
   "name": "Python [Root]"
  }
 },
 "nbformat": 4,
 "nbformat_minor": 0
}
